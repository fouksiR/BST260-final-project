{
  "nbformat": 4,
  "nbformat_minor": 0,
  "metadata": {
    "colab": {
      "provenance": [],
      "authorship_tag": "ABX9TyMNZyriwDRczQLfNZrpgheq",
      "include_colab_link": true
    },
    "kernelspec": {
      "name": "python3",
      "display_name": "Python 3"
    },
    "language_info": {
      "name": "python"
    }
  },
  "cells": [
    {
      "cell_type": "markdown",
      "metadata": {
        "id": "view-in-github",
        "colab_type": "text"
      },
      "source": [
        "<a href=\"https://colab.research.google.com/github/fouksiR/BST260-final-project/blob/main/Sample%20size%20for%20Denny.ipynb\" target=\"_parent\"><img src=\"https://colab.research.google.com/assets/colab-badge.svg\" alt=\"Open In Colab\"/></a>"
      ]
    },
    {
      "cell_type": "markdown",
      "source": [
        "## **Sample size calculation for Denny**"
      ],
      "metadata": {
        "id": "RSZOq_Kn2o4b"
      }
    },
    {
      "cell_type": "markdown",
      "source": [
        "To calculate the sample size needed for this randomized non-inferiority assuming a non-inferiority margin of 5%, we would need to demonstrate that the automated approach is not more than 5% worse than the manual approach in terms of fertilization rate per denuded oocyte.\n",
        "\n",
        "We would use a one-sided test of non-inferiority with a significance level (alpha) of 0.05 and a power of 80%. Assume a standard deviation of 0.15 for the fertilization rate.\n",
        "\n",
        "We would need a total sample size of 4710 denuded oocytes (~314 patients in the manual group) to detect a non-inferiority margin of 5% .\n",
        "\n"
      ],
      "metadata": {
        "id": "0a-d_AiyPsQ8"
      }
    },
    {
      "cell_type": "markdown",
      "source": [
        "In this example, we simulate the randomization of 20 oocytes per patient (assuming x patients) into either manual or automated denudation groups. We start by assigning odd-numbered tubes to the manual group until 15 manual oocytes have been collected, after which we assign the remaining tubes to the automated group. We then calculate the total sample size needed based on the specified effect size, alpha level, power, and standard deviation of the primary outcome measure. Finally, we print the total sample size in terms of denuded oocytes and the number of patients needed to achieve this sample size."
      ],
      "metadata": {
        "id": "OMSdXYz3O53V"
      }
    },
    {
      "cell_type": "code",
      "execution_count": 1,
      "metadata": {
        "id": "fPu0Da68NceE"
      },
      "outputs": [],
      "source": [
        "import random\n",
        "import numpy as np\n",
        "import math\n",
        "import scipy.stats as st\n",
        "\n"
      ]
    },
    {
      "cell_type": "markdown",
      "source": [
        "Assuming a power of 80% and a non-inferiority margin of 0.05, the required sample size per group is approximately 168. Since we are planning to split the 20 oocytes into 5 automated and 15 manual, we can enroll a minimum of 34 patients to have 85 automated and 255 manual oocytes in total."
      ],
      "metadata": {
        "id": "rjFOl_D4vP8h"
      }
    },
    {
      "cell_type": "code",
      "source": [
        "\n",
        "# Define effect size, margin, and alpha values\n",
        "effect_size = 0.05\n",
        "margin = 0.05 # my assumption\n",
        "alpha = 0.025 # divided equally between the upper and lower tails of the null distribution\n",
        "\n",
        "# Calculate pooled standard deviation\n",
        "pooled_sd = math.sqrt(2 * 0.68 * 0.32)\n",
        "\n",
        "# Calculate non-inferiority margin\n",
        "non_inferiority_margin = margin * pooled_sd\n",
        "\n",
        "# Calculate sample size per group\n",
        "z_alpha = st.norm.ppf(1 - alpha)\n",
        "z_beta = st.norm.ppf(0.8)\n",
        "n = (pooled_sd**2 * (1 + 1/2) / non_inferiority_margin**2) * ((z_alpha + z_beta)**2)\n",
        "\n",
        "# Round up to the nearest whole number\n",
        "sample_size = math.ceil(n)\n",
        "\n",
        "print(\"Sample size per group: \", sample_size)\n"
      ],
      "metadata": {
        "id": "rRew_1TpWHex",
        "colab": {
          "base_uri": "https://localhost:8080/"
        },
        "outputId": "dba5a7c2-f4de-4f72-a865-573d12a8adc9"
      },
      "execution_count": 2,
      "outputs": [
        {
          "output_type": "stream",
          "name": "stdout",
          "text": [
            "Sample size per group:  4710\n"
          ]
        }
      ]
    },
    {
      "cell_type": "code",
      "source": [
        "import matplotlib.pyplot as plt\n",
        "\n",
        "# Define data\n",
        "manual_oocytes = 15\n",
        "automated_oocytes = 15\n",
        "\n",
        "# Create bar chart\n",
        "plt.bar(['Manual', 'Automated'], [manual_oocytes, automated_oocytes])\n",
        "plt.title('Oocyte Split')\n",
        "plt.xlabel('Denudation Method')\n",
        "plt.ylabel('Number of Oocytes')\n",
        "plt.show()\n"
      ],
      "metadata": {
        "colab": {
          "base_uri": "https://localhost:8080/",
          "height": 295
        },
        "id": "3k6oP1SxvTNq",
        "outputId": "20a2f81d-7038-4ef4-f35d-b8054cfc7992"
      },
      "execution_count": 3,
      "outputs": [
        {
          "output_type": "display_data",
          "data": {
            "text/plain": [
              "<Figure size 432x288 with 1 Axes>"
            ],
            "image/png": "[encoded data removed]"
          },
          "metadata": {
            "needs_background": "light"
          }
        }
      ]
    },
    {
      "cell_type": "code",
      "source": [
        "# Define the desired number of automated and manual oocytes\n",
        "desired_manual_oocytes = 4710\n",
        "desired_automated_oocytes = desired_manual_oocytes/3\n",
        "\n",
        "# Calculate the number of patients needed for automated denudation\n",
        "patients_needed_for_automated = math.ceil(desired_automated_oocytes / 5)\n",
        "\n",
        "# Calculate the number of patients needed for manual denudation\n",
        "patients_needed_for_manual = math.ceil(desired_manual_oocytes / 15)\n",
        "\n",
        "# Take the maximum of the two numbers to account for the larger sample size\n",
        "total_patients_needed = max(patients_needed_for_automated, patients_needed_for_manual)\n",
        "\n",
        "print(\"Total number of patients needed: \", total_patients_needed)\n"
      ],
      "metadata": {
        "colab": {
          "base_uri": "https://localhost:8080/"
        },
        "id": "bxmdqqNszUJa",
        "outputId": "d5236acf-f0b2-4547-f11a-c638607f95de"
      },
      "execution_count": 4,
      "outputs": [
        {
          "output_type": "stream",
          "name": "stdout",
          "text": [
            "Total number of patients needed:  314\n",
            "patients_needed_for_manual:  314\n"
          ]
        }
      ]
    }
  ]
}